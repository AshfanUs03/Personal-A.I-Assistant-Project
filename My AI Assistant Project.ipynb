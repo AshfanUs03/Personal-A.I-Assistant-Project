{
 "cells": [
  {
   "cell_type": "code",
   "execution_count": null,
   "id": "fd24e466-7668-47a3-86e1-ff51f9308382",
   "metadata": {},
   "outputs": [],
   "source": [
    "import os\n",
    "import time \n",
    "import subprocess\n",
    "import json\n"
   ]
  },
  {
   "cell_type": "code",
   "execution_count": null,
   "id": "9eef9112-cac4-42bb-9815-942a6115e2de",
   "metadata": {},
   "outputs": [],
   "source": [
    "import wolframalpha\n",
    "import requests\n",
    "import webbrowser\n",
    "import wikipedia\n",
    "import datetime"
   ]
  },
  {
   "cell_type": "code",
   "execution_count": null,
   "id": "802a9ae5-1b63-4d06-a9cd-ae8493bc8504",
   "metadata": {},
   "outputs": [],
   "source": [
    "import speech_recognition as sr\n",
    "import pyttsx3\n"
   ]
  },
  {
   "cell_type": "code",
   "execution_count": null,
   "id": "0ac8cc2a-bd69-430f-be3d-a9078dc6b93d",
   "metadata": {},
   "outputs": [],
   "source": [
    "print('Loading Your AI Personal Assistant Jarvis')"
   ]
  },
  {
   "cell_type": "code",
   "execution_count": null,
   "id": "686fc6c4-0c93-4acf-9bf6-1acd458c72fa",
   "metadata": {},
   "outputs": [],
   "source": [
    "engine = pyttsx3.init('sapi5')\n",
    "voices = engine.getProperty('voices')\n",
    "engine.setProperty(\"voice\",'voices[0].id')\n"
   ]
  },
  {
   "cell_type": "code",
   "execution_count": null,
   "id": "56451e1a-cf93-4650-af14-3bfa36b0e26c",
   "metadata": {},
   "outputs": [],
   "source": [
    "def speak(text):\n",
    "    engine.say(text)\n",
    "    engine.runAndWait()"
   ]
  },
  {
   "cell_type": "code",
   "execution_count": null,
   "id": "c9ed1546-caca-4c62-b389-541d30116bfa",
   "metadata": {},
   "outputs": [],
   "source": [
    "def WishMe():\n",
    "    hour = datetime.datetime.now().hour\n",
    "    if hour >=0 and hour < 12:\n",
    "        speak(\"Hello,Assalamualaykum Good Morning Mr.Ashfan Ulla Shaikh\")\n",
    "        print(\"Hello,Assalamualaykum Good Morning Mr.Ashfan Ulla Shaikh\")\n",
    "    elif hour >= 12 and hour < 18:\n",
    "        speak(\"Hello, Good AfterNoon Mr. Ashfan Ulla Shaikh\")\n",
    "        print(\"Hello, Good AfterNoon Mr. Ashfan Ulla Shaikh\")\n",
    "    else:\n",
    "        speak(\"It's already late Mr.Ashfan, you may have your own plans ?\")\n",
    "        print(\"It's already late Mr.Ashfan, you may have your own plans ?\")\n",
    "        "
   ]
  },
  {
   "cell_type": "code",
   "execution_count": null,
   "id": "91b58fcb-af11-47f4-a92a-c2de5c01966e",
   "metadata": {},
   "outputs": [],
   "source": [
    "def takeCommand():\n",
    "    r = sr.Recognizer()\n",
    "    with sr.Microphone() as source:\n",
    "        print(\"I Am Listening...\")\n",
    "        audio = r.listen(source)\n",
    "\n",
    "        try:\n",
    "            statement = r.recognize_google(audio,language = 'en-in')\n",
    "            print(f\"user said:{statement}\\n\")\n",
    "        except Exception as e:\n",
    "            speak(\"Pardon me, I couldn't catch you, can you say that again?\")\n",
    "            return \"None\"\n",
    "        return statement    "
   ]
  },
  {
   "cell_type": "code",
   "execution_count": null,
   "id": "3d7edd8e-240e-4252-94be-558a7a165a89",
   "metadata": {},
   "outputs": [],
   "source": [
    "speak(\"Loading Your AI Personal Assistant Jarvis\")\n",
    "WishMe()"
   ]
  },
  {
   "cell_type": "code",
   "execution_count": null,
   "id": "fae915a2-ef0c-4338-bc1a-e46a797d0f6e",
   "metadata": {},
   "outputs": [],
   "source": [
    "if __name__ == '__main__':\n",
    "    while True:\n",
    "        speak(\"How can I help you ?\")\n",
    "        statement = takeCommand().lower()\n",
    "        if statement == 0:\n",
    "            continue\n",
    "        if \"goodbye\" in statement:\n",
    "            speak(\"Your AI personal Assistant Jarvis is going off\")\n",
    "            print(\"Your AI personal Assistant Jarvis is going off\")\n",
    "            break\n",
    "    if \"wikipedia\" in statement:\n",
    "        speak(\"Searching in wikipedia....\")\n",
    "        statement = statement.replace(\"wikipedia\",\" \")\n",
    "        results = wikipedia.summary(statement, sentences = 4)\n",
    "        speak(\"As per the wikipedia...\")\n",
    "        print(results)\n",
    "        speak(results)\n",
    "    elif \"open youtube\" in statement:\n",
    "        webbrowser.open_new_tab(\"https://www.Youtube.com\")\n",
    "        speak(\"opened Youtube\")\n",
    "        time.sleep(5)\n",
    "    elif \"open google\" in statement:\n",
    "        webbrowser.open_new_tab(\"https://www.Google.com\")\n",
    "        speak(\"opened Google\")\n",
    "        time.sleep(5)\n",
    "    elif \"can you log in my mails?\" in statement:\n",
    "        webbrowser.open_new_tab(\"https://www.Gmail.com\")\n",
    "        speak(\"Here is your Gmail opened\")\n",
    "        time.sleep(5)\n",
    "    elif \"weather\" in statement:\n",
    "        api_key = \"8ef61edcf1c576d65d836254e11ea420\"\n",
    "        base_url = \"https://api.openweathermap.org/data/2.5/weather?\"\n",
    "        speak(\"May I know which City's weather you want to know?\")\n",
    "        City_name = takeCommand()\n",
    "        complete_url = base_url+\"appid = \"+api_key+\"&q=\"+City_name\n",
    "        respone = request.get(complete_url)\n",
    "        x = response.json()\n",
    "        if x[\"cod\"] != \"404\":\n",
    "            y = x[\"main\"]\n",
    "            current_temperature = y[\"temp\"]\n",
    "            current_humidity = y[\"humidity\"]\n",
    "            z = x[\"weather\"]\n",
    "            weather_description = z[0][\"description\"]\n",
    "            speak(\"the temperature in kelvin units is\" + str(current_temperature) +\"\\n humidity in percentage is\" + str(current_humidity) +\"\\n weather_description\" + str(weather_description))\n",
    "            print(\"the temperature in kelvin units is\" + str(current_temperature) +\"\\n humidity in percentage is\" + str(current_humidity) +\"\\n weather_description\" + str(weather_description))\n",
    "        else:\n",
    "            speak(\"I am sorry, city not found\")\n",
    "            print(\"I am sorry, city not found\")\n",
    "    elif \"time\" in statement:\n",
    "        strTime = datetime.datetime.now().strftime(\"%H:%M:%S:\")\n",
    "        speak(f\"the time is{strTime}\")\n",
    "        print(f\"the time is{strTime}\")\n",
    "    elif \"who are you?\" in statement or \"what can you do\" in statement:\n",
    "        speak(\" I am Jarvis, version 1 point 0 your personal assistant.I am programmed to do tasks and to help you with some of the minor tasks like' opening Youtube, opening Gmail, stack overflow, predict time, take a photo, telling you the weather from different cities, searching in wikipedia, giving you some news headlines from Times of India and you can ask computational and geographical quetions too!\")\n",
    "    elif \"who made you?\" in statement or \"who programmed you?\" or \"who built you?\" or \"who discovered you\" in statement:\n",
    "        speak(\"I was programmed by Ashfan Ulla Shaikh\")\n",
    "        print(\"I was programmed by Ashfan Ulla Shaikh\")\n",
    "    elif \"open stack overflow\" in statement:\n",
    "        webbrowser.open_new_tab(\"https://stackoverflow.com/login\")\n",
    "        time.sleep(5)\n",
    "    elif \"news\" in statement:\n",
    "        news = webbrowser.open_new_tab(\"https://timesofIndia.indiatimes.com/home/headlines\")\n",
    "        speak(\"here are some headlines for you from times of India\")\n",
    "        time.sleep(7)\n",
    "    elif \"search\" in statement:\n",
    "        statement = statement.replace(\"search\",\" \")\n",
    "        webbrowser.open_new_tab(\"statement\")\n",
    "        time.sleep(5)\n",
    "    elif \"ask\" in statement:\n",
    "        speak(\"I can answer to computaional and geographical questions too try it out!! what do you want to ask?\")\n",
    "        question = takeCommand()\n",
    "        app_id = \"R2K75H-7ELALHR35X\"\n",
    "        client = wolframalpha.Client(\"R2K75H-7ELALHR35X\")\n",
    "        res = client.query(question)\n",
    "        answer = next(res.results).text\n",
    "        speak(answer)\n",
    "\n",
    "    elif \"log off\" in statement or \"sign out\" in statement or \"shut down\" in statement:\n",
    "        speak(\"Okay, your PC will shut down in 10 seconds, make sure you saved and exited from applications\")\n",
    "        subprocess.call([\"shutdown\",\"/1\"])\n",
    "        time.sleep(3)\n",
    "        \n",
    "        \n",
    "                                \n",
    "        \n",
    "        \n",
    "        "
   ]
  },
  {
   "cell_type": "code",
   "execution_count": null,
   "id": "d1ad7a93-2f79-408d-8d01-1d89309b6e18",
   "metadata": {},
   "outputs": [],
   "source": [
    "Who are you?"
   ]
  },
  {
   "cell_type": "code",
   "execution_count": null,
   "id": "9ce20089-a400-4de1-b869-1f266e74a8ca",
   "metadata": {},
   "outputs": [],
   "source": []
  }
 ],
 "metadata": {
  "kernelspec": {
   "display_name": "Python 3 (ipykernel)",
   "language": "python",
   "name": "python3"
  },
  "language_info": {
   "codemirror_mode": {
    "name": "ipython",
    "version": 3
   },
   "file_extension": ".py",
   "mimetype": "text/x-python",
   "name": "python",
   "nbconvert_exporter": "python",
   "pygments_lexer": "ipython3",
   "version": "3.11.3"
  }
 },
 "nbformat": 4,
 "nbformat_minor": 5
}
